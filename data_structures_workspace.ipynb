{
 "cells": [
  {
   "cell_type": "code",
   "execution_count": null,
   "metadata": {},
   "outputs": [],
   "source": [
    "#"
   ]
  },
  {
   "cell_type": "markdown",
   "metadata": {},
   "source": [
    "<h1><center>**Data Structures Practice**</center></h1>"
   ]
  },
  {
   "cell_type": "markdown",
   "metadata": {},
   "source": [
    "![title](ds.png)"
   ]
  },
  {
   "cell_type": "markdown",
   "metadata": {},
   "source": [
    "<h3>**DATA TYPES IN PYTHON**</h3>"
   ]
  },
  {
   "cell_type": "code",
   "execution_count": 235,
   "metadata": {},
   "outputs": [
    {
     "name": "stdout",
     "output_type": "stream",
     "text": [
      "<class 'int'>\n",
      "<class 'float'>\n",
      "<class 'complex'>\n",
      "<class 'bool'>\n",
      "<class 'str'>\n",
      "\n"
     ]
    }
   ],
   "source": [
    "# DATA TYPES\n",
    "a = 1\n",
    "b = 5.1555\n",
    "c = a + 5j\n",
    "d = False\n",
    "e = 'abc'\n",
    "print(type(a))\n",
    "print(type(b))\n",
    "print(type(c))\n",
    "print(type(d))\n",
    "print(type(e))\n",
    "print('')"
   ]
  },
  {
   "cell_type": "code",
   "execution_count": null,
   "metadata": {},
   "outputs": [],
   "source": []
  },
  {
   "cell_type": "markdown",
   "metadata": {},
   "source": [
    "<h3>**STRINGS**</h3>"
   ]
  },
  {
   "cell_type": "code",
   "execution_count": 157,
   "metadata": {},
   "outputs": [
    {
     "name": "stdout",
     "output_type": "stream",
     "text": [
      "Substring/Slicing\n",
      "a = 01234\n",
      "a[1:1](gives blank) printed in between *  *\n",
      "a[2:] = 234\n",
      "a[:2] = 01\n",
      "a[:] = 01234\n",
      "a[:789] = 01234\n",
      "a[2] + z[:2] = 298\n",
      "a[-4:-2] = 12\n",
      "a[: : 2] = 024\n",
      "\n",
      "string a:  abc de\n",
      "repeating a string a*2:  abc deabc de\n",
      "\n",
      "capitalizing first alphabet:  Abc de\n",
      "\n",
      "string z:  98765\n",
      "string z has all integers:  True\n",
      "\n",
      "ab5de\n",
      "string b: lower\n",
      "using upper on b:  LOWER\n",
      "\n",
      "string: This is string slicing\n",
      "splitting a string:  ['This', 'is', 'string', 'slicing']\n",
      "\n",
      "string:  This is string slicing\n",
      "No of occurence of s 4\n",
      "No of occurence of z 0\n",
      "Position of s 3\n",
      "Position of z -1\n"
     ]
    }
   ],
   "source": [
    "# STRING\n",
    "\n",
    "# Slicing, Substring\n",
    "a = '01234'\n",
    "b = a[1:1] # Prints blank\n",
    "c = a[2:] # Copies from index 2 to end\n",
    "d = a[:2] # Copies from index 0 to n-1\n",
    "e = a[:] # Copies everything \n",
    "f = a[:789] # Copies everything\n",
    "g = a[2] + z[:2] # Copies and append\n",
    "h = a[-4:-2] # Copies from the end, 2nd to 4th(n-1)\n",
    "i = a[: : 2] # Copies everything at the index multiple of 2, i.e. 0,2,4\n",
    "\n",
    "print('Substring/Slicing')\n",
    "print('a =',a)\n",
    "print('a[1:1](gives blank) printed in between *',b,'*')\n",
    "print('a[2:] =',c)\n",
    "print('a[:2] =',d)\n",
    "print('a[:] =',e)\n",
    "print('a[:789] =',f)\n",
    "print('a[2] + z[:2] =',g)\n",
    "print('a[-4:-2] =',h)\n",
    "print('a[: : 2] =',i)\n",
    "print('')\n",
    "\n",
    "# Repeat a string\n",
    "a = 'abc de'\n",
    "print('string a: ',a)\n",
    "print('repeating a string a*2: ',a*2)\n",
    "print('')\n",
    "\n",
    "# Capitalize first letter\n",
    "print('capitalizing first alphabet: ',str.capitalize(a))\n",
    "print('')\n",
    "\n",
    "# String digit check, returns bool\n",
    "z = '98765'\n",
    "print('string z: ',z)\n",
    "print('string z has all integers: ',str.isdigit(z))\n",
    "print('')\n",
    "\n",
    "# Replace a substring, replace if matched else return original\n",
    "print(a.replace('c ','5'))\n",
    "\n",
    "\n",
    "# Convert to upper case\n",
    "b = 'lower'\n",
    "print('string b:',b)\n",
    "print('using upper on b: ',b.upper())\n",
    "print('')\n",
    "\n",
    "# Split string, Return a list separated by space\n",
    "a = 'This is string slicing'\n",
    "print('string:', a)\n",
    "c = a.split()\n",
    "print('splitting a string: ',c)\n",
    "print('')\n",
    "\n",
    "# Count the number of occurence, return 0 if not found\n",
    "n = a.count('s')\n",
    "n1 = a.count('z')\n",
    "print('string: ',a)\n",
    "print('No of occurence of s',n)\n",
    "print('No of occurence of z',n1)\n",
    "\n",
    "# Find the position of any character in a string, return position else -1\n",
    "n = a.find('s')\n",
    "n1 = a.find('z')\n",
    "print('Position of s',n)\n",
    "print('Position of z',n1)\n"
   ]
  },
  {
   "cell_type": "code",
   "execution_count": null,
   "metadata": {},
   "outputs": [],
   "source": []
  },
  {
   "cell_type": "markdown",
   "metadata": {},
   "source": [
    "<h3>**ABSOLUTE and ROUND Function**</h3>"
   ]
  },
  {
   "cell_type": "code",
   "execution_count": 54,
   "metadata": {},
   "outputs": [
    {
     "name": "stdout",
     "output_type": "stream",
     "text": [
      "Absolute function\n",
      "a =  1.65777777777 abs:  1.65777777777\n",
      "b =  (3-5j) abs:  5.830951894845301\n",
      "c =  1 abs:  1\n",
      "\n",
      "Converting to string  1.65777777777\n",
      "\n",
      "Round function\n",
      "round a  1\n",
      "round b  2\n",
      "round c  1.2\n"
     ]
    }
   ],
   "source": [
    "# ABSOLUTE abs() function\n",
    "# If the argument is a complex number, its magnitude is returned\n",
    "a = 1.65777777777\n",
    "b = 3 - 5j\n",
    "c = 1\n",
    "print('Absolute function')\n",
    "print('a = ',a, 'abs: ', abs(a))\n",
    "print('b = ',b, 'abs: ', abs(b))\n",
    "print('c = ',c, 'abs: ', abs(c))\n",
    "\n",
    "print('')\n",
    "print('Converting to string ',str(a))\n",
    "print('')\n",
    "\n",
    " # Rounds to the nearest integer, lower value if < 5, else upper bound\n",
    "a = 1.45\n",
    "b = 1.65\n",
    "c = 1.152545\n",
    "print('Round function')\n",
    "print('round a ', round(a))\n",
    "print('round b ', round(b))\n",
    "print('round c ', round(c,1)) # Rounds to 1 decimal place"
   ]
  },
  {
   "cell_type": "code",
   "execution_count": null,
   "metadata": {},
   "outputs": [],
   "source": []
  },
  {
   "cell_type": "markdown",
   "metadata": {},
   "source": [
    "<h3>**ARRAY**</h3>"
   ]
  },
  {
   "cell_type": "code",
   "execution_count": 89,
   "metadata": {},
   "outputs": [
    {
     "name": "stdout",
     "output_type": "stream",
     "text": [
      "array('I', [1, 2, 3])\n",
      "<class 'array.array'>\n",
      "<class 'str'>\n",
      "<class 'str'>\n"
     ]
    }
   ],
   "source": [
    "# ARRAY, can store different kind of unicode objects as a list in the second item,  restricted by typecode\n",
    "# Can't store complex objects, first item is a typecode - unicode character, used to identify the type of the array\n",
    "\n",
    "import array as arr\n",
    "from array import array\n",
    "a = arr.array('I', [1,2,3])\n",
    "\n",
    "# Will give error if argument 1 is a not a unicode character i.e. 'i', 'I', 'l', 'L', 'f', 'd', 'u' - for string\n",
    "#a = arr.array([1,2,3], '1 + 3j')\n",
    "\n",
    "# Will give errror if more that two arguments are provided\n",
    "#a = arr.array('I', [1,2,3], '1 + 3j')\n",
    "\n",
    "b = arr.array('u',['m','n'])\n",
    "\n",
    "c = array('u','aasad')\n",
    "\n",
    "# Cannot store non unicode characters in array, Therefore use lists (mutable) or tuple (immutable)\n",
    "# c = array('u', ['ab','bc'])\n",
    "\n",
    "print(a)\n",
    "print(type(a))\n",
    "print(type(b[1])) # Returns type of n\n",
    "print(type(c[2])) # Returns type of s"
   ]
  },
  {
   "cell_type": "code",
   "execution_count": null,
   "metadata": {},
   "outputs": [],
   "source": []
  },
  {
   "cell_type": "markdown",
   "metadata": {},
   "source": [
    "<h3>**LISTS**</h3>"
   ]
  },
  {
   "cell_type": "code",
   "execution_count": 131,
   "metadata": {},
   "outputs": [
    {
     "name": "stdout",
     "output_type": "stream",
     "text": [
      "LISTS\n",
      "[]\n",
      "list b:  ['a', 1, 2, [3, 4], 2, 3, [3], 'b', 'b', 'c']\n",
      "\n",
      "APPEND in list\n",
      "append(at end), list:  ['a', 1, 2, [3, 4], 2, 3, [3], 'b', 'b', 'c', 5]\n",
      "\n",
      "INSERT function on lists\n",
      "insert at 0, list:  ['c', 'a', 1, 2, [3, 4], 2, 3, [3], 'b', 'b', 'c', 5]\n",
      "\n",
      "REMOVE function on list element\n",
      "removes returns:  None\n",
      "remove first occurrence of b, list:  ['c', 'a', 1, 2, [3, 4], 2, 3, [3], 'b', 'c', 5]\n",
      "\n",
      "POP function on list\n",
      "popped item:  c\n",
      "default pop removes last element:  5\n",
      "after pop, list:  ['c', 'a', 1, 2, [3, 4], 2, 3, [3], 'b']\n",
      "\n",
      "SORT a list\n",
      "list c:  ['d', 'e', 'c', 'a']\n",
      "sort reverse c: ['e', 'd', 'c', 'a']\n",
      "\n",
      "COUNT in lists\n",
      "Occurrence of  2  in b:  2\n",
      "Occurrence of  3  in b:  1\n",
      "\n",
      "CLEAR function on lists\n",
      "clear removes everything, list:  []\n",
      "\n",
      "DEL keyword with lists\n",
      "list a:  [0, 1, 2, 3, 4, 5, 6, 7, 8, 9, 10, 11, 12]\n",
      "del at index 0, list:  [1, 2, 3, 4, 5, 6, 7, 8, 9, 10, 11, 12]\n",
      "del till range 2, 4(not included), list:  [1, 2, 5, 6, 7, 8, 9, 10, 11, 12]\n",
      "del till range -4(not included),-2(starts from end), list:  [1, 2, 5, 6, 7, 8, 11, 12]\n",
      "\n",
      "COPY function on lists\n",
      "list a:  ['a', 'b', 'c']\n",
      "after append, list:  ['a', 'b', 'c', 'd']\n",
      "normal copy via '=', list b:  ['a', 'b', 'c', 'd']\n",
      "shallow copy(append doesn't affect), list c:  ['a', 'b', 'c']\n"
     ]
    }
   ],
   "source": [
    "# LISTS\n",
    "print('LISTS')\n",
    "a = []\n",
    "print(a)\n",
    "\n",
    "b = list(['a', 1, 2, [3,4], 2, 3, [3], 'b', 'b', 'c'])\n",
    "print('list b: ',b)\n",
    "print('')\n",
    "\n",
    "# Append in list\n",
    "print('APPEND in list')\n",
    "b.append(5)\n",
    "print('append(at end), list: ',b)\n",
    "print('')\n",
    "\n",
    "# Insert, takes position and value\n",
    "print('INSERT function on lists')\n",
    "b.insert(0,'c') \n",
    "print('insert at 0, list: ',b)\n",
    "print('')\n",
    "\n",
    "# Remove, remove first occurence\n",
    "#b.remove('b')\n",
    "print('REMOVE function on list element')\n",
    "print('removes returns: ',b.remove('b')) # Return None\n",
    "print('remove first occurrence of b, list: ',b)\n",
    "print('')\n",
    "\n",
    "# Pop(), removes at a particular position and returns the removed value, - specifies from end\n",
    "# default will remove the last value\n",
    "print('POP function on list')\n",
    "print('popped item: ',b.pop(-2))\n",
    "print('default pop removes last element: ',b.pop())\n",
    "print('after pop, list: ',b)\n",
    "print('')\n",
    "\n",
    "print('SORT a list')\n",
    "# Sort, takes argument 'key', 'reverse'\n",
    "c = ['d','e','c','a']\n",
    "print('list c: ',c)\n",
    "c.sort(key=None, reverse=True) # default None, False\n",
    "print('sort reverse c:',c)\n",
    "print('')\n",
    "\n",
    "# Count, return count of occurrence\n",
    "print('COUNT in lists')\n",
    "n = 2\n",
    "print('Occurrence of ',n,' in b: ',b.count(n))\n",
    "n = 3 # Doesn't count inside a nested list\n",
    "print('Occurrence of ',n,' in b: ',b.count(n))\n",
    "print('')\n",
    "\n",
    "\n",
    "# Clear, removes all\n",
    "print('CLEAR function on lists')\n",
    "a = ['a', 1]\n",
    "a.clear() # Returns none\n",
    "print('clear removes everything, list: ',a)\n",
    "print('')\n",
    "\n",
    "# Del on lists, can be used to delete at a particular position or a range\n",
    "print('DEL keyword with lists')\n",
    "#a = ['a', 'b', 'c', 'd', 'e', 'f', 'g', 'h', 'i', 'j']\n",
    "a = [0, 1, 2, 3, 4, 5, 6, 7, 8, 9, 10, 11, 12]\n",
    "print('list a: ',a)\n",
    "del a[0]\n",
    "print('del at index 0, list: ',a)\n",
    "del a[2:4]\n",
    "print('del till range 2, 4(not included), list: ', a)\n",
    "del a[-4:-2]\n",
    "print('del till range -4(not included),-2(starts from end), list: ', a)\n",
    "print('')\n",
    "\n",
    "# IMPORTANT\n",
    "# Copy, return a shallow copy of list\n",
    "print('COPY function on lists')\n",
    "a = ['a', 'b', 'c']\n",
    "print('list a: ',a)\n",
    "b = a # Only creats reference\n",
    "c = a.copy() # Creates a new list\n",
    "a.append('d')\n",
    "print('after append, list: ',a)\n",
    "print('normal copy via \\'=\\', list b: ',b)\n",
    "print('shallow copy(append doesn\\'t affect), list c: ',c)"
   ]
  },
  {
   "cell_type": "markdown",
   "metadata": {},
   "source": [
    "<h4>**LIST as STACK**</h4>"
   ]
  },
  {
   "cell_type": "code",
   "execution_count": 158,
   "metadata": {},
   "outputs": [
    {
     "name": "stdout",
     "output_type": "stream",
     "text": [
      "current stack:  [1, 2, 3]\n",
      "append 4:  [1, 2, 3, 4]\n",
      "append 5:  [1, 2, 3, 4, 5]\n",
      "\n",
      "popped element:  5\n",
      "stack pop:  [1, 2, 3, 4]\n"
     ]
    }
   ],
   "source": [
    "# LIST as STACK\n",
    "# stack follows LIFO architecture\n",
    "\n",
    "a = [1,2,3]\n",
    "# adds to end\n",
    "print('current stack: ',a)\n",
    "a.append(4)\n",
    "print('append 4: ',a)\n",
    "a.append(5)\n",
    "print('append 5: ',a)\n",
    "print('')\n",
    "\n",
    "#pops from end\n",
    "print('popped element: ', a.pop())\n",
    "print('stack pop: ',a)\n"
   ]
  },
  {
   "cell_type": "markdown",
   "metadata": {},
   "source": [
    "<h4>**LIST as QUEUE**</h4>"
   ]
  },
  {
   "cell_type": "code",
   "execution_count": 162,
   "metadata": {},
   "outputs": [
    {
     "name": "stdout",
     "output_type": "stream",
     "text": [
      "Method 1\n",
      "queue: [1, 2, 3, 4, 5]\n",
      "after pop:  [2, 3, 4, 5]\n",
      "\n",
      "Method 2, using deque from collections library\n",
      "queue: deque([1, 2, 3, 4, 5])\n",
      "pop from left:  1 , queue:  deque([2, 3, 4, 5])\n",
      "pop from right:  5 , queue:  deque([2, 3, 4])\n"
     ]
    }
   ],
   "source": [
    "# LIST as QUEUE\n",
    "# queue follows FIFO architecture\n",
    "\n",
    "# Method 1\n",
    "print('Method 1')\n",
    "a = [1,2,3]\n",
    "# adds to end\n",
    "a.append(4)\n",
    "a.append(5)\n",
    "print('queue:',a)\n",
    "#pops from end\n",
    "a.pop(-len(a))\n",
    "print('after pop: ',a)\n",
    "print('')\n",
    "\n",
    "# Method 2, using deque\n",
    "# Provides method popleft(), popright() for fast access\n",
    "print('Method 2, using deque from collections library')\n",
    "from collections import deque\n",
    "a = deque([1,2,3])\n",
    "a.append(4)\n",
    "a.append(5)\n",
    "print('queue:',a)\n",
    "print('pop from left: ',a.popleft(),', queue: ', a)\n",
    "print('pop from right: ',a.pop(),', queue: ', a)\n"
   ]
  },
  {
   "cell_type": "code",
   "execution_count": null,
   "metadata": {},
   "outputs": [],
   "source": []
  },
  {
   "cell_type": "markdown",
   "metadata": {},
   "source": [
    "<h3>**DICTIONARIES**</h3>"
   ]
  },
  {
   "cell_type": "code",
   "execution_count": 164,
   "metadata": {},
   "outputs": [
    {
     "name": "stdout",
     "output_type": "stream",
     "text": [
      "dict_keys(['a', 'b', 'c', 'd', 'e', 'f'])\n",
      "dict_values([['b', 'c'], ['d', 'e'], ['f', 'g'], ['h', 'i'], ['b'], []])\n",
      "\n",
      "Iterate method 1\n",
      "a ['b', 'c']\n",
      "b ['d', 'e']\n",
      "c ['f', 'g']\n",
      "d ['h', 'i']\n",
      "e ['b']\n",
      "f []\n",
      "\n",
      "Iterate method 2\n",
      "a ['b', 'c']\n",
      "b ['d', 'e']\n",
      "c ['f', 'g']\n",
      "d ['h', 'i']\n",
      "e ['b']\n",
      "f []\n",
      "\n",
      "Graph using above dictionary\n",
      "[['a', 'b'], ['a', 'c'], ['b', 'd'], ['b', 'e'], ['c', 'f'], ['c', 'g'], ['d', 'h'], ['d', 'i'], ['e', 'b'], ['f']]\n"
     ]
    }
   ],
   "source": [
    "# DICTIONARIES, GRAPH using dictionaries\n",
    "\n",
    "# Defining dictionary\n",
    "graph = { \"a\" : [\"b\", \"c\"],\n",
    "          \"b\" : [\"d\", \"e\"],\n",
    "          \"c\" : [\"f\", \"g\"],\n",
    "          \"d\" : [\"h\", \"i\"],\n",
    "          \"e\" : [\"b\"],\n",
    "          \"f\" : []\n",
    "        }\n",
    "\n",
    "# Key, value in a dictionary\n",
    "print(graph.keys())\n",
    "print(graph.values())\n",
    "print('')\n",
    "\n",
    "# Iterate over dictionaries keys\n",
    "print('Iterate method 1')\n",
    "for key in graph:\n",
    "    print(key, graph[key])\n",
    "print('')\n",
    "    \n",
    "# Iterate over key, values\n",
    "print('Iterate method 2')\n",
    "for key, value in graph.items():\n",
    "    print(key, value)\n",
    "print('')\n",
    "    \n",
    "# Defining a function for graph\n",
    "def graph_def():\n",
    "    edge = []\n",
    "    for parent_key in graph:\n",
    "        if graph[parent_key] == []:\n",
    "            edge.append([parent_key])\n",
    "        for child_value in graph[parent_key]:\n",
    "            edge.append([parent_key, child_value])\n",
    "    return edge\n",
    "\n",
    "print('Graph using above dictionary')\n",
    "print(graph_def())"
   ]
  },
  {
   "cell_type": "code",
   "execution_count": null,
   "metadata": {},
   "outputs": [],
   "source": []
  },
  {
   "cell_type": "markdown",
   "metadata": {},
   "source": [
    "![title](tree.jpg)"
   ]
  },
  {
   "cell_type": "markdown",
   "metadata": {},
   "source": [
    "<h3>**TREES**</h3>\n",
    "<h3>**CLASSES**</h3>\n",
    "<h4>'Using List and Classes implementing Trees'</h4>"
   ]
  },
  {
   "cell_type": "code",
   "execution_count": 167,
   "metadata": {},
   "outputs": [
    {
     "name": "stdout",
     "output_type": "stream",
     "text": [
      "Root: 1, Left Child: Root: 2, Left Child: 2.1, Right Child: 2.2, Right Child: Root: 3, Left Child: 3.1, Right Child: None\n",
      "\n"
     ]
    }
   ],
   "source": [
    "# TREE\n",
    "# implementation using list and Classes\n",
    "\n",
    "class Tree:\n",
    "    def __init__(self, info, left=None, right=None):\n",
    "        self.info = info\n",
    "        self.left = left\n",
    "        self.right = right\n",
    "    \n",
    "    def __str__(self):\n",
    "        return ('Root: ' + str(self.info) + ', Left Child: '+ str(self.left) + ', Right Child: '+ str(self.right))\n",
    "    \n",
    "tree = Tree(1, Tree(2, 2.1, 2.2), Tree(3,3.1))\n",
    "print(tree)\n",
    "print('')"
   ]
  },
  {
   "cell_type": "code",
   "execution_count": null,
   "metadata": {},
   "outputs": [],
   "source": []
  },
  {
   "cell_type": "markdown",
   "metadata": {},
   "source": [
    "<h3>**TUPLE**</h3>"
   ]
  },
  {
   "cell_type": "code",
   "execution_count": 198,
   "metadata": {},
   "outputs": [
    {
     "name": "stdout",
     "output_type": "stream",
     "text": [
      "type of d:  <class 'tuple'> type of e:  <class 'int'>\n",
      "tuple a:  (1, 2, 3, 4, 5)\n",
      "a[2:4]:  (3, 4)\n",
      "tuple additon:  (3, 4, 'a', 'b')\n",
      "(1, 2, 3, 4) <class 'tuple'>\n",
      "len of tuple:  4\n",
      "[1, 2, 3, 4] <class 'list'>\n"
     ]
    }
   ],
   "source": [
    "# TUPLE\n",
    "\n",
    "# Tuple initialization by multiple methods\n",
    "# method 1\n",
    "a = 1,2,3,4,5\n",
    "# method 2 \n",
    "b = ('a', 'b')\n",
    "# method 3\n",
    "c = tuple('a')\n",
    "# method 4\n",
    "d = (1,) # For single element tuple initialization, we need to add a comma\n",
    "e = (1) # type of e will be int, and d will be tuple\n",
    "print('type of d: ',type (d),'type of e: ', type(e))\n",
    "print('tuple a: ',a)\n",
    "print('a[2:4]: ',a[2:4])\n",
    "\n",
    "f = a[2:4] + b # Cannot add an integer inplace of b\n",
    "print('tuple additon: ',f)\n",
    "\n",
    "# Tuples cannot be modfied, and tuple objects does not support item assigment (e.g. a[2]= 2, will give error)\n",
    "# Elements cannot be added to tuple, nor deleted\n",
    "\n",
    "a1 = tuple([1,2,3] + [4])\n",
    "print(a1, type(a1))\n",
    "print('len of tuple: ',len(a1))\n",
    "\n",
    "# Typecasting tuple to list\n",
    "a2 = list(a1)\n",
    "print(a2, type(a2))"
   ]
  },
  {
   "cell_type": "code",
   "execution_count": null,
   "metadata": {},
   "outputs": [],
   "source": []
  },
  {
   "cell_type": "markdown",
   "metadata": {},
   "source": [
    "<h3>**SETS**</h3>"
   ]
  },
  {
   "cell_type": "code",
   "execution_count": 227,
   "metadata": {},
   "outputs": [
    {
     "name": "stdout",
     "output_type": "stream",
     "text": [
      "a : {'b', 'c', 'e', 'a', 'f', 'd'}\n",
      "b : {'f', 'e', 'd'}\n",
      "a - b : {'c', 'b', 'a'}\n",
      "a | b : {'b', 'c', 'e', 'a', 'f', 'd'}\n",
      "a & b : {'e', 'f', 'd'}\n"
     ]
    }
   ],
   "source": [
    "# SETS\n",
    "# only return unique elements\n",
    "a = set('abcdefabc')\n",
    "b = set('def')\n",
    "print('a :',a)\n",
    "print('b :',b)\n",
    "\n",
    "# Unique of a -b\n",
    "print('a - b :',a-b)\n",
    "\n",
    "# Unique of a OR b (union)\n",
    "print('a | b :',a|b)\n",
    "\n",
    "# Unique of a AND b (intersection)\n",
    "print('a & b :',a&b)"
   ]
  },
  {
   "cell_type": "markdown",
   "metadata": {},
   "source": []
  },
  {
   "cell_type": "markdown",
   "metadata": {},
   "source": [
    "<h3>**FILES**</h3>"
   ]
  },
  {
   "cell_type": "code",
   "execution_count": 300,
   "metadata": {},
   "outputs": [
    {
     "name": "stdout",
     "output_type": "stream",
     "text": [
      "FULL FILE AT ONCE\n",
      "line 1\n",
      "line 2\n",
      "line 3\n",
      "line 4\n",
      "line 5\n",
      "2\n",
      "\n",
      "ONE LINE AT A TIME\n",
      "line 1\n",
      "\n",
      "None\n"
     ]
    }
   ],
   "source": [
    "# FILES\n",
    "import re\n",
    "p = re.compile('[\\d]')\n",
    "\n",
    "# File modes (2nd argument): 'r'(read), 'w'(write), 'a'(appending), 'r+'(both reading and writing)\n",
    "f = open('sample.txt', 'r+')\n",
    "\n",
    "# read(), reads entire file, same as f.readlines()\n",
    "a = f.read() \n",
    "print('FULL FILE AT ONCE')\n",
    "print(a)\n",
    "b = p.search(a, re.M)\n",
    "print(b.group())\n",
    "f.close()\n",
    "\n",
    "print('')\n",
    "# Readline(), reads one line at a time\n",
    "f = open('sample.txt', 'r+')\n",
    "print('ONE LINE AT A TIME')\n",
    "a = f.readline()\n",
    "print(a)\n",
    "b = p.search(a, re.M)\n",
    "print(b)\n",
    "f.close()\n",
    "\n",
    "# Writes the string to the file, returning the number of char written\n",
    "#f.write('Add this line \\n') \n",
    "\n"
   ]
  },
  {
   "cell_type": "markdown",
   "metadata": {},
   "source": [
    "<h3>**REGULAR EXPRESSION: RE**</h3>"
   ]
  },
  {
   "cell_type": "code",
   "execution_count": 277,
   "metadata": {},
   "outputs": [
    {
     "name": "stdout",
     "output_type": "stream",
     "text": [
      "Match using default pattern\n",
      "s1 matched\n",
      "match object:  <re.Match object; span=(0, 6), match='Cookie'>\n",
      "matched string:  Cookie\n",
      "s2  not matched\n",
      "s3  not matched\n",
      "s4  not matched\n",
      "\n",
      "Match using special patttern\n",
      "s1  not matched\n",
      "s2  not matched\n",
      "s3  not matched\n",
      "s4 matched\n",
      "match object:  <re.Match object; span=(0, 26), match='before Cookie after Cookie'>\n",
      "s4  matched string group():  before Cookie after Cookie\n",
      "s4  matched string group(1):  before\n",
      "s4  matched string group(2):  after Cookie\n",
      "\n",
      "Match vs Search\n",
      "s1 True Cookie\n",
      "s3 True Cookie\n",
      "s4 True Cookie\n"
     ]
    }
   ],
   "source": [
    "# REFERENCES\n",
    "# https://www.tutorialspoint.com/python/python_reg_expressions.htm\n",
    "# https://www.datacamp.com/community/tutorials/python-regular-expression-tutorial#BasicChar\n",
    "\n",
    "import re\n",
    "s1 = 'Cookie'\n",
    "s2 = 'cookie'  #Default match is case sensitive\n",
    "s3 = 'Red Cookie' # Default match will only match exact characters\n",
    "s4 = 'before Cookie after Cookie'\n",
    "pattern1 = r'Cookie'\n",
    "pattern2 = r'(.*) Cookie (.*)' # will consider space as separator\n",
    "# Similar to writing\n",
    "# pattern = re.compile('Cookie')\n",
    "list1 = [s1,s2,s3,s4]\n",
    "print('Match using default pattern')\n",
    "for i in range(4):\n",
    "    matched1 = re.match(pattern1, list1[i])\n",
    "    # returns None if no match found\n",
    "    if matched1:\n",
    "        print('s'+str(i+1),'matched')\n",
    "        print('match object: ',matched1)\n",
    "        print('matched string: ',matched1.group())\n",
    "\n",
    "    else:\n",
    "        print('s'+str(i+1),' not matched')\n",
    "\n",
    "        \n",
    "print('')\n",
    "print('Match using special patttern')\n",
    "for i in range(4):    \n",
    "    matched2 = re.match(pattern2, list1[i])\n",
    "    if matched2:\n",
    "        print('s'+str(i+1),'matched')\n",
    "        print('match object: ',matched2)\n",
    "        if list1[i] == s4:\n",
    "            print('s'+str(i+1),' matched string group(): ',matched2.group())\n",
    "            print('s'+str(i+1),' matched string group(1): ',matched2.group(1))\n",
    "            print('s'+str(i+1),' matched string group(2): ',matched2.group(2))\n",
    "            # group 3 doesn't exist so will give error\n",
    "\n",
    "    else:\n",
    "        print('s'+str(i+1),' not matched')\n",
    "\n",
    "print('')\n",
    "print('Match vs Search')\n",
    "for i in range(4):\n",
    "    search1 = re.search(pattern1, list1[i]) # Searches the first occurrence\n",
    "    if search1:\n",
    "        print('s'+str(i+1),True,search1.group())"
   ]
  },
  {
   "cell_type": "markdown",
   "metadata": {},
   "source": [
    "<h3>** Matching with Pattern ** </h3>"
   ]
  },
  {
   "cell_type": "code",
   "execution_count": 294,
   "metadata": {},
   "outputs": [
    {
     "name": "stdout",
     "output_type": "stream",
     "text": [
      "Match using \\w (lowercase w)\n",
      "s1 matched\n",
      "matched string:  Co1k_e match object:  <re.Match object; span=(0, 6), match='Co1k_e'>\n",
      "s2  not matched\n",
      "\n",
      "Match using \\W (uppercase W)\n",
      "s1  not matched\n",
      "s2 matched\n",
      "matched string:  C#$ki@ match object:  <re.Match object; span=(0, 6), match='C#$ki@'>\n"
     ]
    }
   ],
   "source": [
    "# \\w Lowercase w. Matches any single letter, digit or underscore\n",
    "# \\W Uppercase W. Matches any character not part of \\w (lowercase w).\n",
    "\n",
    "import re\n",
    "\n",
    "s1 = 'Co1k_e'\n",
    "s2 = 'C#$ki@'\n",
    "pattern1 = r'Co\\wk\\we'\n",
    "pattern2 = r'C\\W\\Wki\\W'\n",
    "\n",
    "list1 = [s1,s2]\n",
    "print('Match using \\w (lowercase w)')\n",
    "for i in range(2):\n",
    "    matched1 = re.match(pattern1, list1[i])\n",
    "    if matched1:\n",
    "        print('s'+str(i+1),'matched')\n",
    "        print('matched string: ',matched1.group(),'match object: ',matched1)\n",
    "\n",
    "    else:\n",
    "        print('s'+str(i+1),' not matched')\n",
    "\n",
    "print('')\n",
    "print('Match using \\W (uppercase W)')\n",
    "for i in range(2):\n",
    "    matched1 = re.match(pattern2, list1[i])\n",
    "    if matched1:\n",
    "        print('s'+str(i+1),'matched')\n",
    "        print('matched string: ',matched1.group(),'match object: ',matched1)\n",
    "\n",
    "    else:\n",
    "        print('s'+str(i+1),' not matched')\n",
    "\n",
    "\n"
   ]
  },
  {
   "cell_type": "code",
   "execution_count": null,
   "metadata": {},
   "outputs": [],
   "source": []
  }
 ],
 "metadata": {
  "kernelspec": {
   "display_name": "Python 3",
   "language": "python",
   "name": "python3"
  },
  "language_info": {
   "codemirror_mode": {
    "name": "ipython",
    "version": 3
   },
   "file_extension": ".py",
   "mimetype": "text/x-python",
   "name": "python",
   "nbconvert_exporter": "python",
   "pygments_lexer": "ipython3",
   "version": "3.7.4"
  }
 },
 "nbformat": 4,
 "nbformat_minor": 2
}
